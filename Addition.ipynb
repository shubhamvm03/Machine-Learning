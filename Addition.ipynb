{
  "nbformat": 4,
  "nbformat_minor": 0,
  "metadata": {
    "colab": {
      "provenance": [],
      "authorship_tag": "ABX9TyMw14SshsdhOCOkHoUW/Z7d",
      "include_colab_link": true
    },
    "kernelspec": {
      "name": "python3",
      "display_name": "Python 3"
    },
    "language_info": {
      "name": "python"
    }
  },
  "cells": [
    {
      "cell_type": "markdown",
      "metadata": {
        "id": "view-in-github",
        "colab_type": "text"
      },
      "source": [
        "<a href=\"https://colab.research.google.com/github/shubhamvm03/Machine-Learning/blob/main/Addition.ipynb\" target=\"_parent\"><img src=\"https://colab.research.google.com/assets/colab-badge.svg\" alt=\"Open In Colab\"/></a>"
      ]
    },
    {
      "cell_type": "code",
      "execution_count": null,
      "metadata": {
        "id": "hFDLFyYKExh9"
      },
      "outputs": [],
      "source": []
    },
    {
      "cell_type": "markdown",
      "source": [
        "Bubble sort"
      ],
      "metadata": {
        "id": "AfAykeX4EyBQ"
      }
    },
    {
      "cell_type": "code",
      "source": [
        "# Python program for implementation of Bubble Sort\n",
        "\n",
        "def bubbleSort(arr):\n",
        "\tn = len(arr)\n",
        "\tswapped = False\n",
        "\tfor i in range(n-1):\n",
        "\t\n",
        "\t\tfor j in range(0, n-i-1):\n",
        "\n",
        "\t\t\tif arr[j] > arr[j + 1]:\n",
        "\t\t\t\tswapped = True\n",
        "\t\t\t\tarr[j], arr[j + 1] = arr[j + 1], arr[j]\n",
        "\t\t\n",
        "\t\tif not swapped:\n",
        "\n",
        "\t\t\treturn\n",
        "\n",
        "\n",
        "\n",
        "arr = [64, 34, 25, 12, 22, 11, 90]\n",
        "\n",
        "bubbleSort(arr)\n",
        "\n",
        "print(\"Sorted array is:\")\n",
        "for i in range(len(arr)):\n",
        "\tprint(\"% d\" % arr[i], end=\" \")\n"
      ],
      "metadata": {
        "colab": {
          "base_uri": "https://localhost:8080/"
        },
        "id": "I0AcIxjvE1Rv",
        "outputId": "00484c35-5a44-417a-d9cb-57cfebd11fe9"
      },
      "execution_count": 2,
      "outputs": [
        {
          "output_type": "stream",
          "name": "stdout",
          "text": [
            "Sorted array is:\n",
            " 11  12  22  25  34  64  90 "
          ]
        }
      ]
    },
    {
      "cell_type": "markdown",
      "source": [
        "Addition of numbers"
      ],
      "metadata": {
        "id": "DoJSVO_FNnyj"
      }
    },
    {
      "cell_type": "code",
      "source": [
        "a=50\n",
        "b=87\n",
        "c=a+b\n",
        "print(c)"
      ],
      "metadata": {
        "colab": {
          "base_uri": "https://localhost:8080/"
        },
        "id": "PSyO3_7TNuEj",
        "outputId": "4e399fc2-db5b-4cd8-a320-026603a59092"
      },
      "execution_count": 3,
      "outputs": [
        {
          "output_type": "stream",
          "name": "stdout",
          "text": [
            "137\n"
          ]
        }
      ]
    },
    {
      "cell_type": "code",
      "source": [],
      "metadata": {
        "id": "J556MdC-E-cn"
      },
      "execution_count": null,
      "outputs": []
    },
    {
      "cell_type": "markdown",
      "source": [],
      "metadata": {
        "id": "gaZ9bTp-E9IH"
      }
    }
  ]
}